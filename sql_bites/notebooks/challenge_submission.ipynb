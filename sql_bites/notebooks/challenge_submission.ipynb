{
 "cells": [
  {
   "attachments": {},
   "cell_type": "markdown",
   "metadata": {},
   "source": [
    "# Summarise Data Challenge\n",
    "\n",
    "Write a query which returns the difference between the \"High Price\" and the \"Low Price\" of pumpkins in different cities. Ensure that the results are returned in descending order."
   ]
  },
  {
   "attachments": {},
   "cell_type": "markdown",
   "metadata": {},
   "source": [
    "First I loaded the SQL extentsion and connected to the correct database. "
   ]
  },
  {
   "cell_type": "code",
   "execution_count": 4,
   "metadata": {},
   "outputs": [],
   "source": [
    "%load_ext sql\n",
    "%sql postgresql+psycopg2://localhost:5432/intro_to_sql_for_analytics"
   ]
  },
  {
   "attachments": {},
   "cell_type": "markdown",
   "metadata": {},
   "source": [
    "Next I made a query that found the average of the range (high price minus low price) for each group by city name. These were ordered by the size of this value which I called 'Difference'."
   ]
  },
  {
   "cell_type": "code",
   "execution_count": 5,
   "metadata": {},
   "outputs": [
    {
     "name": "stdout",
     "output_type": "stream",
     "text": [
      " * postgresql+psycopg2://localhost:5432/intro_to_sql_for_analytics\n",
      "13 rows affected.\n"
     ]
    },
    {
     "data": {
      "text/html": [
       "<table>\n",
       "    <tr>\n",
       "        <th>City Name</th>\n",
       "        <th>Difference</th>\n",
       "    </tr>\n",
       "    <tr>\n",
       "        <td>BOSTON</td>\n",
       "        <td>24.394886363636363</td>\n",
       "    </tr>\n",
       "    <tr>\n",
       "        <td>ATLANTA</td>\n",
       "        <td>14.232456140350877</td>\n",
       "    </tr>\n",
       "    <tr>\n",
       "        <td>NEW YORK</td>\n",
       "        <td>9.357142857142858</td>\n",
       "    </tr>\n",
       "    <tr>\n",
       "        <td>BALTIMORE</td>\n",
       "        <td>7.565359477124183</td>\n",
       "    </tr>\n",
       "    <tr>\n",
       "        <td>LOS ANGELES</td>\n",
       "        <td>5.812096774193549</td>\n",
       "    </tr>\n",
       "    <tr>\n",
       "        <td>PHILADELPHIA</td>\n",
       "        <td>5.614035087719298</td>\n",
       "    </tr>\n",
       "    <tr>\n",
       "        <td>SAN FRANCISCO</td>\n",
       "        <td>5.25</td>\n",
       "    </tr>\n",
       "    <tr>\n",
       "        <td>DALLAS</td>\n",
       "        <td>4.817518248175182</td>\n",
       "    </tr>\n",
       "    <tr>\n",
       "        <td>CHICAGO</td>\n",
       "        <td>2.6653225806451615</td>\n",
       "    </tr>\n",
       "    <tr>\n",
       "        <td>DETROIT</td>\n",
       "        <td>1.2272727272727273</td>\n",
       "    </tr>\n",
       "    <tr>\n",
       "        <td>ST. LOUIS</td>\n",
       "        <td>1.1407766990291262</td>\n",
       "    </tr>\n",
       "    <tr>\n",
       "        <td>COLUMBIA</td>\n",
       "        <td>0.41825095057034223</td>\n",
       "    </tr>\n",
       "    <tr>\n",
       "        <td>MIAMI</td>\n",
       "        <td>0.0</td>\n",
       "    </tr>\n",
       "</table>"
      ],
      "text/plain": [
       "[('BOSTON', 24.394886363636363),\n",
       " ('ATLANTA', 14.232456140350877),\n",
       " ('NEW YORK', 9.357142857142858),\n",
       " ('BALTIMORE', 7.565359477124183),\n",
       " ('LOS ANGELES', 5.812096774193549),\n",
       " ('PHILADELPHIA', 5.614035087719298),\n",
       " ('SAN FRANCISCO', 5.25),\n",
       " ('DALLAS', 4.817518248175182),\n",
       " ('CHICAGO', 2.6653225806451615),\n",
       " ('DETROIT', 1.2272727272727273),\n",
       " ('ST. LOUIS', 1.1407766990291262),\n",
       " ('COLUMBIA', 0.41825095057034223),\n",
       " ('MIAMI', 0.0)]"
      ]
     },
     "execution_count": 5,
     "metadata": {},
     "output_type": "execute_result"
    }
   ],
   "source": [
    "%%sql \n",
    "SELECT \"City Name\", AVG(\"High Price\" - \"Low Price\") \n",
    "  AS \"Difference\"\n",
    "  FROM us_pumpkin_prices \n",
    "  GROUP BY \"City Name\"\n",
    "  ORDER BY \"Difference\" DESC"
   ]
  },
  {
   "attachments": {},
   "cell_type": "markdown",
   "metadata": {},
   "source": [
    "Miami has an average difference of zero so I will take a look at the data this city. "
   ]
  },
  {
   "cell_type": "code",
   "execution_count": 12,
   "metadata": {},
   "outputs": [
    {
     "name": "stdout",
     "output_type": "stream",
     "text": [
      " * postgresql+psycopg2://localhost:5432/intro_to_sql_for_analytics\n",
      "3 rows affected.\n"
     ]
    },
    {
     "data": {
      "text/html": [
       "<table>\n",
       "    <tr>\n",
       "        <th>City Name</th>\n",
       "        <th>Low Price</th>\n",
       "        <th>High Price</th>\n",
       "    </tr>\n",
       "    <tr>\n",
       "        <td>MIAMI</td>\n",
       "        <td>120.0</td>\n",
       "        <td>120.0</td>\n",
       "    </tr>\n",
       "    <tr>\n",
       "        <td>MIAMI</td>\n",
       "        <td>160.0</td>\n",
       "        <td>160.0</td>\n",
       "    </tr>\n",
       "    <tr>\n",
       "        <td>MIAMI</td>\n",
       "        <td>230.0</td>\n",
       "        <td>230.0</td>\n",
       "    </tr>\n",
       "</table>"
      ],
      "text/plain": [
       "[('MIAMI', 120.0, 120.0), ('MIAMI', 160.0, 160.0), ('MIAMI', 230.0, 230.0)]"
      ]
     },
     "execution_count": 12,
     "metadata": {},
     "output_type": "execute_result"
    }
   ],
   "source": [
    "%%sql \n",
    "SELECT \"City Name\", \"Low Price\", \"High Price\"\n",
    "  FROM us_pumpkin_prices \n",
    "  WHERE \"City Name\" = 'MIAMI'"
   ]
  },
  {
   "attachments": {},
   "cell_type": "markdown",
   "metadata": {},
   "source": [
    "All three Miami entries have no price range so there does not seem to be a problem with the previous query. "
   ]
  }
 ],
 "metadata": {
  "kernelspec": {
   "display_name": "sql_for_data_venv",
   "language": "python",
   "name": "python3"
  },
  "language_info": {
   "codemirror_mode": {
    "name": "ipython",
    "version": 3
   },
   "file_extension": ".py",
   "mimetype": "text/x-python",
   "name": "python",
   "nbconvert_exporter": "python",
   "pygments_lexer": "ipython3",
   "version": "3.11.3"
  },
  "orig_nbformat": 4
 },
 "nbformat": 4,
 "nbformat_minor": 2
}
